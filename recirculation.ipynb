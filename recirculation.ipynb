{
 "cells": [
  {
   "cell_type": "code",
   "execution_count": 7,
   "metadata": {},
   "outputs": [],
   "source": [
    "import numpy as np\n",
    "import matplotlib.pyplot as plt\n",
    "%matplotlib notebook\n"
   ]
  },
  {
   "cell_type": "code",
   "execution_count": 8,
   "metadata": {},
   "outputs": [],
   "source": [
    "def tanh(x):\n",
    "    return np.tanh(x)\n",
    "\n",
    "\n",
    "def relu(x):\n",
    "    return np.maximum(0, x)\n"
   ]
  },
  {
   "cell_type": "code",
   "execution_count": 9,
   "metadata": {},
   "outputs": [],
   "source": [
    "class RecirculatedAutoEncoder:\n",
    "    \"\"\"Recirculated autoencoder.\n",
    "    \n",
    "    Parameters\n",
    "    ----------\n",
    "    n_neurons : array-like, shape (n_layers)\n",
    "        Number of neurons per layer\n",
    "        \n",
    "    activation_functions : function or list of functions, optional.\n",
    "        Activation function for each layer.\n",
    "        \n",
    "    learning_rate : array-like, optional\n",
    "        If a single number, every layer uses the same learning rate.\n",
    "        Otherwise, the incoming weights to layer n are updated with learning_rate[n].\n",
    "        \n",
    "    regression_coefficient : array-like, optional\n",
    "        Regression coefficient, in range [0, 1].\n",
    "        \n",
    "    symmetric : boolean, optional\n",
    "    \n",
    "    \"\"\"\n",
    "\n",
    "    def __init__(self, n_neurons, activation_functions=relu, learning_rate=1, regression_coefficient=0.75, symmetric=False):\n",
    "        if symmetric:\n",
    "            n_neurons = n_neurons + n_neurons[-2:0:-1]\n",
    "\n",
    "        self.n_neurons_ = np.array(n_neurons)\n",
    "        self.n_layers_ = len(self.n_neurons_)\n",
    "\n",
    "        if type(activation_functions) is not list:\n",
    "            self.activation_functions_= [activation_functions] * (self.n_layers_)\n",
    "        elif len(activation_functions) == 2 and symmetric:\n",
    "            self.activation_functions_= [\n",
    "                activation_functions[0]] * (self.n_layers_ // 2) + [activation_functions[1]] * (self.n_layers_ // 2)\n",
    "        else:\n",
    "            self.activation_functions_= activation_functions\n",
    "\n",
    "        if len(self.activation_functions_) != self.n_layers_:\n",
    "            raise ValueError(\n",
    "                'An activation function is required for every layer.')\n",
    "\n",
    "        if learning_rate * 0 == 0:\n",
    "            self.learning_rate_ = np.array([learning_rate] * len(n_neurons))\n",
    "        else:\n",
    "            self.learning_rate_ = np.array(learning_rate)\n",
    "\n",
    "        if regression_coefficient * 0 == 0:\n",
    "            self.regression_coefficient_ = np.array([regression_coefficient] * len(n_neurons))\n",
    "        else:\n",
    "            self.regression_coefficient_ = np.array(regression_coefficient)\n",
    "\n",
    "        # Initialize weight matrices to random weights in the interval [-0.5, 0.5]\n",
    "        self.weights_ = []\n",
    "\n",
    "        for i in range(self.n_layers_ - 1):\n",
    "            self.weights_.append(np.random.random(\n",
    "                (self.n_neurons_[i] + 1, self.n_neurons_[i+1])) - 0.5)\n",
    "\n",
    "        self.weights_.append(np.random.random(\n",
    "            (self.n_neurons_[-1] + 1, self.n_neurons_[0])) - 0.5)\n",
    "\n",
    "    def recirculate(self, inputs, update=True):\n",
    "        a = []\n",
    "        for n in self.n_neurons_:\n",
    "            a.append(np.ones((inputs.shape[0], 2, n + 1)))\n",
    "\n",
    "        # 1st propagation\n",
    "        a[0][:, 0, :-1] = inputs\n",
    "        for i in range(self.n_layers_ - 1):\n",
    "            a[i+1][:, 0, :-\n",
    "                   1] = self.activation_functions_[i](a[i][:, 0, :] @ self.weights_[i])\n",
    "\n",
    "        # 2nd propagation\n",
    "        a[0][:, 1, :-1] = self.regression_coefficient_[0] * a[0][:, 0, :-1] + \\\n",
    "            (1 - self.regression_coefficient_[0]) * self.activation_functions_[-1](a[-1]\n",
    "                                                     [:, 0, :] @ self.weights_[-1])\n",
    "        for i in range(1, self.n_layers_):\n",
    "            a[i][:, 1, :-1] = self.regression_coefficient_[i] * a[i][:, 0, :-1] + \\\n",
    "                (1 - self.regression_coefficient_[i]) * self.activation_functions_[i -\n",
    "                                                     1](a[i-1][:, 1, :] @ self.weights_[i-1])\n",
    "\n",
    "        # weight updates\n",
    "        for i in range(len(self.weights_) - 1):\n",
    "            self.weights_[i] += self.learning_rate_[i] * a[i][:, 1,\n",
    "                                                   :].T @ (a[i+1][:, 0, :-1] - a[i+1][:, 1, :-1])\n",
    "        self.weights_[-1] += self.learning_rate_[-1] * a[-1][:, 0,\n",
    "                                                  :].T @ (a[0][:, 0, :-1] - a[0][:, 1, :-1])\n",
    "\n",
    "        return 0.5 * ((inputs - a[0][:, 1, :-1]) ** 2).sum()\n",
    "\n",
    "    def encode(self, inputs, layer):\n",
    "        a = []\n",
    "        for n in self.n_neurons_:\n",
    "            a.append(np.ones((inputs.shape[0], n + 1)))\n",
    "\n",
    "        # 1st propagation\n",
    "        a[0][:, :-1] = inputs\n",
    "        for i in range(self.n_layers_ - 1):\n",
    "            a[i+1][:, :-1] = self.activation_functions_[i](a[i][:, :] @ self.weights_[i])\n",
    "\n",
    "        # Return the desired layer and the reconstructed output\n",
    "        return a[layer][:, :-1], self.activation_functions_[-1](a[-1][:, :] @ self.weights_[-1])\n"
   ]
  },
  {
   "cell_type": "code",
   "execution_count": 10,
   "metadata": {},
   "outputs": [
    {
     "data": {
      "image/png": "[encoded data removed]",
      "text/plain": [
       "<Figure size 432x288 with 1 Axes>"
      ]
     },
     "metadata": {
      "needs_background": "light"
     },
     "output_type": "display_data"
    }
   ],
   "source": [
    "autoencoder = RecirculatedAutoEncoder(n_neurons=[4, 2], activation_functions=[\n",
    "    tanh,relu], learning_rate=1, regression_coefficient=[0.75, 0])\n",
    "\n",
    "inputs = np.array([[1, 0, 0, 0], [0, 1, 0, 0], [0, 0, 1, 0], [0, 0, 0, 1]])\n",
    "\n",
    "%matplotlib inline\n",
    "fig = plt.figure()\n",
    "ax = fig.subplots(1, 1)\n",
    "ax.imshow(inputs)\n",
    "ax.set_title('Inputs')\n",
    "ax.set_ylabel('Vectors')\n",
    "ax.set_xlabel('Bits')\n",
    "ax.set_xticks([0, 1, 2, 3])\n",
    "ax.set_yticks([0, 1, 2, 3])\n",
    "\n",
    "error = np.empty(100)\n",
    "for i in range(100):\n",
    "    error[i] = autoencoder.recirculate(inputs)\n"
   ]
  },
  {
   "cell_type": "code",
   "execution_count": 11,
   "metadata": {},
   "outputs": [
    {
     "data": {
      "image/png": "[encoded data removed]",
      "text/plain": [
       "<Figure size 432x288 with 1 Axes>"
      ]
     },
     "metadata": {
      "needs_background": "light"
     },
     "output_type": "display_data"
    }
   ],
   "source": [
    "fig = plt.figure()\n",
    "ax = fig.subplots(1, 1)\n",
    "ax.plot(error)\n",
    "ax.set_title('Training Error')\n",
    "ax.set_ylabel('Mean Squared Error')\n",
    "ax.set_xlabel('Epoch')\n",
    "plt.show()\n"
   ]
  },
  {
   "cell_type": "code",
   "execution_count": 12,
   "metadata": {},
   "outputs": [
    {
     "data": {
      "image/png": "[encoded data removed]",
      "text/plain": [
       "<Figure size 432x288 with 2 Axes>"
      ]
     },
     "metadata": {
      "needs_background": "light"
     },
     "output_type": "display_data"
    }
   ],
   "source": [
    "coded, recon = autoencoder.encode(inputs, layer=1)\n",
    "\n",
    "fig2 = plt.figure()\n",
    "fig2.suptitle('Final Reconstruction & Encoding')\n",
    "axes = fig2.subplots(1, 2)\n",
    "axes[0].imshow(recon)\n",
    "axes[0].set_ylabel('Reconstructed Output')\n",
    "axes[0].set_xlabel('Bits')\n",
    "axes[0].set_xticks([0, 1, 2, 3])\n",
    "axes[0].set_yticks([0, 1, 2, 3])\n",
    "axes[1].imshow(coded)\n",
    "axes[1].set_ylabel('Hidden Code')\n",
    "axes[1].set_xlabel('Bits')\n",
    "axes[1].set_yticks([0, 1, 2, 3])\n",
    "axes[1].set_xticks([0, 1])\n",
    "plt.show()\n"
   ]
  }
 ],
 "metadata": {
  "kernelspec": {
   "display_name": "Python 3.9.7 64-bit",
   "language": "python",
   "name": "python3"
  },
  "language_info": {
   "codemirror_mode": {
    "name": "ipython",
    "version": 3
   },
   "file_extension": ".py",
   "mimetype": "text/x-python",
   "name": "python",
   "nbconvert_exporter": "python",
   "pygments_lexer": "ipython3",
   "version": "3.9.7"
  },
  "orig_nbformat": 4,
  "vscode": {
   "interpreter": {
    "hash": "aee8b7b246df8f9039afb4144a1f6fd8d2ca17a180786b69acc140d282b71a49"
   }
  }
 },
 "nbformat": 4,
 "nbformat_minor": 2
}
